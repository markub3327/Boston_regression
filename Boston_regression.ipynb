{
  "nbformat": 4,
  "nbformat_minor": 0,
  "metadata": {
    "colab": {
      "name": "Boston_regression.ipynb",
      "provenance": [],
      "collapsed_sections": []
    },
    "kernelspec": {
      "name": "python3",
      "display_name": "Python 3"
    },
    "language_info": {
      "name": "python"
    },
    "accelerator": "GPU",
    "widgets": {
      "application/vnd.jupyter.widget-state+json": {
        "332349a0b0a34ee4a57b85c44e823100": {
          "model_module": "@jupyter-widgets/controls",
          "model_name": "VBoxModel",
          "model_module_version": "1.5.0",
          "state": {
            "_view_name": "VBoxView",
            "_dom_classes": [],
            "_model_name": "VBoxModel",
            "_view_module": "@jupyter-widgets/controls",
            "_model_module_version": "1.5.0",
            "_view_count": null,
            "_view_module_version": "1.5.0",
            "box_style": "",
            "layout": "IPY_MODEL_673a2ba941d54131b510d570863c948f",
            "_model_module": "@jupyter-widgets/controls",
            "children": [
              "IPY_MODEL_4df2e1ac011a4a8291e809a244042f10",
              "IPY_MODEL_86fba3e30cc44a879b93b386cf188db5"
            ]
          }
        },
        "673a2ba941d54131b510d570863c948f": {
          "model_module": "@jupyter-widgets/base",
          "model_name": "LayoutModel",
          "model_module_version": "1.2.0",
          "state": {
            "_view_name": "LayoutView",
            "grid_template_rows": null,
            "right": null,
            "justify_content": null,
            "_view_module": "@jupyter-widgets/base",
            "overflow": null,
            "_model_module_version": "1.2.0",
            "_view_count": null,
            "flex_flow": null,
            "width": null,
            "min_width": null,
            "border": null,
            "align_items": null,
            "bottom": null,
            "_model_module": "@jupyter-widgets/base",
            "top": null,
            "grid_column": null,
            "overflow_y": null,
            "overflow_x": null,
            "grid_auto_flow": null,
            "grid_area": null,
            "grid_template_columns": null,
            "flex": null,
            "_model_name": "LayoutModel",
            "justify_items": null,
            "grid_row": null,
            "max_height": null,
            "align_content": null,
            "visibility": null,
            "align_self": null,
            "height": null,
            "min_height": null,
            "padding": null,
            "grid_auto_rows": null,
            "grid_gap": null,
            "max_width": null,
            "order": null,
            "_view_module_version": "1.2.0",
            "grid_template_areas": null,
            "object_position": null,
            "object_fit": null,
            "grid_auto_columns": null,
            "margin": null,
            "display": null,
            "left": null
          }
        },
        "4df2e1ac011a4a8291e809a244042f10": {
          "model_module": "@jupyter-widgets/controls",
          "model_name": "LabelModel",
          "model_module_version": "1.5.0",
          "state": {
            "_view_name": "LabelView",
            "style": "IPY_MODEL_efe1b6e9e20e414ca0f8dc52bb2f4887",
            "_dom_classes": [],
            "description": "",
            "_model_name": "LabelModel",
            "placeholder": "​",
            "_view_module": "@jupyter-widgets/controls",
            "_model_module_version": "1.5.0",
            "value": " 0.11MB of 0.11MB uploaded (0.00MB deduped)\r",
            "_view_count": null,
            "_view_module_version": "1.5.0",
            "description_tooltip": null,
            "_model_module": "@jupyter-widgets/controls",
            "layout": "IPY_MODEL_b756f2c800824d3eb6ba537aa573f252"
          }
        },
        "86fba3e30cc44a879b93b386cf188db5": {
          "model_module": "@jupyter-widgets/controls",
          "model_name": "FloatProgressModel",
          "model_module_version": "1.5.0",
          "state": {
            "_view_name": "ProgressView",
            "style": "IPY_MODEL_c6d2017e04cf461186ca18b240a727c2",
            "_dom_classes": [],
            "description": "",
            "_model_name": "FloatProgressModel",
            "bar_style": "",
            "max": 1,
            "_view_module": "@jupyter-widgets/controls",
            "_model_module_version": "1.5.0",
            "value": 1,
            "_view_count": null,
            "_view_module_version": "1.5.0",
            "orientation": "horizontal",
            "min": 0,
            "description_tooltip": null,
            "_model_module": "@jupyter-widgets/controls",
            "layout": "IPY_MODEL_3a8897ee2f814e71a3a78e3b659cf16e"
          }
        },
        "efe1b6e9e20e414ca0f8dc52bb2f4887": {
          "model_module": "@jupyter-widgets/controls",
          "model_name": "DescriptionStyleModel",
          "model_module_version": "1.5.0",
          "state": {
            "_view_name": "StyleView",
            "_model_name": "DescriptionStyleModel",
            "description_width": "",
            "_view_module": "@jupyter-widgets/base",
            "_model_module_version": "1.5.0",
            "_view_count": null,
            "_view_module_version": "1.2.0",
            "_model_module": "@jupyter-widgets/controls"
          }
        },
        "b756f2c800824d3eb6ba537aa573f252": {
          "model_module": "@jupyter-widgets/base",
          "model_name": "LayoutModel",
          "model_module_version": "1.2.0",
          "state": {
            "_view_name": "LayoutView",
            "grid_template_rows": null,
            "right": null,
            "justify_content": null,
            "_view_module": "@jupyter-widgets/base",
            "overflow": null,
            "_model_module_version": "1.2.0",
            "_view_count": null,
            "flex_flow": null,
            "width": null,
            "min_width": null,
            "border": null,
            "align_items": null,
            "bottom": null,
            "_model_module": "@jupyter-widgets/base",
            "top": null,
            "grid_column": null,
            "overflow_y": null,
            "overflow_x": null,
            "grid_auto_flow": null,
            "grid_area": null,
            "grid_template_columns": null,
            "flex": null,
            "_model_name": "LayoutModel",
            "justify_items": null,
            "grid_row": null,
            "max_height": null,
            "align_content": null,
            "visibility": null,
            "align_self": null,
            "height": null,
            "min_height": null,
            "padding": null,
            "grid_auto_rows": null,
            "grid_gap": null,
            "max_width": null,
            "order": null,
            "_view_module_version": "1.2.0",
            "grid_template_areas": null,
            "object_position": null,
            "object_fit": null,
            "grid_auto_columns": null,
            "margin": null,
            "display": null,
            "left": null
          }
        },
        "c6d2017e04cf461186ca18b240a727c2": {
          "model_module": "@jupyter-widgets/controls",
          "model_name": "ProgressStyleModel",
          "model_module_version": "1.5.0",
          "state": {
            "_view_name": "StyleView",
            "_model_name": "ProgressStyleModel",
            "description_width": "",
            "_view_module": "@jupyter-widgets/base",
            "_model_module_version": "1.5.0",
            "_view_count": null,
            "_view_module_version": "1.2.0",
            "bar_color": null,
            "_model_module": "@jupyter-widgets/controls"
          }
        },
        "3a8897ee2f814e71a3a78e3b659cf16e": {
          "model_module": "@jupyter-widgets/base",
          "model_name": "LayoutModel",
          "model_module_version": "1.2.0",
          "state": {
            "_view_name": "LayoutView",
            "grid_template_rows": null,
            "right": null,
            "justify_content": null,
            "_view_module": "@jupyter-widgets/base",
            "overflow": null,
            "_model_module_version": "1.2.0",
            "_view_count": null,
            "flex_flow": null,
            "width": null,
            "min_width": null,
            "border": null,
            "align_items": null,
            "bottom": null,
            "_model_module": "@jupyter-widgets/base",
            "top": null,
            "grid_column": null,
            "overflow_y": null,
            "overflow_x": null,
            "grid_auto_flow": null,
            "grid_area": null,
            "grid_template_columns": null,
            "flex": null,
            "_model_name": "LayoutModel",
            "justify_items": null,
            "grid_row": null,
            "max_height": null,
            "align_content": null,
            "visibility": null,
            "align_self": null,
            "height": null,
            "min_height": null,
            "padding": null,
            "grid_auto_rows": null,
            "grid_gap": null,
            "max_width": null,
            "order": null,
            "_view_module_version": "1.2.0",
            "grid_template_areas": null,
            "object_position": null,
            "object_fit": null,
            "grid_auto_columns": null,
            "margin": null,
            "display": null,
            "left": null
          }
        }
      }
    }
  },
  "cells": [
    {
      "cell_type": "markdown",
      "source": [
        "# Regression on Boston Housing Dataset"
      ],
      "metadata": {
        "id": "dYVKBFHW8nk0"
      }
    },
    {
      "cell_type": "markdown",
      "source": [
        "## Imports"
      ],
      "metadata": {
        "id": "5_aL2QQs8kqQ"
      }
    },
    {
      "cell_type": "code",
      "source": [
        "!pip3 install wandb"
      ],
      "metadata": {
        "id": "QfV6jiec_ga0"
      },
      "execution_count": null,
      "outputs": []
    },
    {
      "cell_type": "code",
      "execution_count": 32,
      "metadata": {
        "colab": {
          "base_uri": "https://localhost:8080/",
          "height": 378,
          "referenced_widgets": [
            "332349a0b0a34ee4a57b85c44e823100",
            "673a2ba941d54131b510d570863c948f",
            "4df2e1ac011a4a8291e809a244042f10",
            "86fba3e30cc44a879b93b386cf188db5",
            "efe1b6e9e20e414ca0f8dc52bb2f4887",
            "b756f2c800824d3eb6ba537aa573f252",
            "c6d2017e04cf461186ca18b240a727c2",
            "3a8897ee2f814e71a3a78e3b659cf16e"
          ]
        },
        "id": "kHWZp28WFb5j",
        "outputId": "8b82575e-6e46-4884-e643-77cc7c4c24f2"
      },
      "outputs": [
        {
          "output_type": "display_data",
          "data": {
            "text/html": [
              "Finishing last run (ID:14lbh0fe) before initializing another..."
            ],
            "text/plain": [
              "<IPython.core.display.HTML object>"
            ]
          },
          "metadata": {}
        },
        {
          "output_type": "display_data",
          "data": {
            "text/html": [
              "<br/>Waiting for W&B process to finish, PID 3079... <strong style=\"color:green\">(success).</strong>"
            ],
            "text/plain": [
              "<IPython.core.display.HTML object>"
            ]
          },
          "metadata": {}
        },
        {
          "output_type": "display_data",
          "data": {
            "application/vnd.jupyter.widget-view+json": {
              "model_id": "332349a0b0a34ee4a57b85c44e823100",
              "version_minor": 0,
              "version_major": 2
            },
            "text/plain": [
              "VBox(children=(Label(value=' 0.09MB of 0.09MB uploaded (0.00MB deduped)\\r'), FloatProgress(value=1.0, max=1.0)…"
            ]
          },
          "metadata": {}
        },
        {
          "output_type": "display_data",
          "data": {
            "text/html": [
              "<style>\n",
              "    table.wandb td:nth-child(1) { padding: 0 10px; text-align: right }\n",
              "    .wandb-row { display: flex; flex-direction: row; flex-wrap: wrap; width: 100% }\n",
              "    .wandb-col { display: flex; flex-direction: column; flex-basis: 100%; flex: 1; padding: 10px; }\n",
              "    </style>\n",
              "<div class=\"wandb-row\"><div class=\"wandb-col\">\n",
              "<h3>Run history:</h3><br/><table class=\"wandb\"><tr><td>epoch</td><td>▁▁▁▁▂▂▂▂▂▃▃▃▃▃▃▄▄▄▄▄▅▅▅▅▅▅▆▆▆▆▆▇▇▇▇▇▇███</td></tr><tr><td>loss</td><td>█▆▃▂▁▁▁▁▁▁▁▁▁▁▁▁▁▁▁▁▁▁▁▁▁▁▁▁▁▁▁▁▁▁▁▁▁▁▁▁</td></tr><tr><td>mae</td><td>█▇▄▃▂▂▁▁▁▁▁▁▁▁▁▁▁▁▁▁▁▁▁▁▁▁▁▁▁▁▁▁▁▁▁▁▁▁▁▁</td></tr><tr><td>val_loss</td><td>█▆▂▂▁▁▁▁▁▁▁▁▁▁▁▁▁▁▁▁▁▁▁▁▁▁▁▁▁▁▁▁▁▁▁▁▁▁▁▁</td></tr><tr><td>val_mae</td><td>█▇▃▂▂▂▁▁▁▁▁▁▁▁▁▁▁▁▁▁▁▁▁▁▁▁▁▁▁▁▁▁▁▁▁▁▁▁▁▁</td></tr></table><br/></div><div class=\"wandb-col\">\n",
              "<h3>Run summary:</h3><br/><table class=\"wandb\"><tr><td>best_epoch</td><td>91</td></tr><tr><td>best_val_loss</td><td>20.93502</td></tr><tr><td>epoch</td><td>99</td></tr><tr><td>loss</td><td>6.97294</td></tr><tr><td>mae</td><td>1.9018</td></tr><tr><td>val_loss</td><td>21.04046</td></tr><tr><td>val_mae</td><td>2.84643</td></tr></table>\n",
              "</div></div>\n",
              "Synced 5 W&B file(s), 1 media file(s), 0 artifact file(s) and 1 other file(s)\n",
              "<br/>Synced <strong style=\"color:#cdcd00\">upbeat-waterfall-7</strong>: <a href=\"https://wandb.ai/markub/Boston_regression/runs/14lbh0fe\" target=\"_blank\">https://wandb.ai/markub/Boston_regression/runs/14lbh0fe</a><br/>\n",
              "Find logs at: <code>./wandb/run-20211215_171358-14lbh0fe/logs</code><br/>\n"
            ],
            "text/plain": [
              "<IPython.core.display.HTML object>"
            ]
          },
          "metadata": {}
        },
        {
          "output_type": "display_data",
          "data": {
            "text/html": [
              "Successfully finished last run (ID:14lbh0fe). Initializing new run:<br/>"
            ],
            "text/plain": [
              "<IPython.core.display.HTML object>"
            ]
          },
          "metadata": {}
        },
        {
          "output_type": "display_data",
          "data": {
            "text/html": [
              "\n",
              "                    Syncing run <strong><a href=\"https://wandb.ai/markub/Boston_regression/runs/148vjge3\" target=\"_blank\">kind-firefly-8</a></strong> to <a href=\"https://wandb.ai/markub/Boston_regression\" target=\"_blank\">Weights & Biases</a> (<a href=\"https://docs.wandb.com/integrations/jupyter.html\" target=\"_blank\">docs</a>).<br/>\n",
              "\n",
              "                "
            ],
            "text/plain": [
              "<IPython.core.display.HTML object>"
            ]
          },
          "metadata": {}
        }
      ],
      "source": [
        "from tensorflow.keras.datasets import boston_housing\n",
        "from tensorflow.keras import models\n",
        "from tensorflow.keras import layers\n",
        "from tensorflow.keras.optimizers import Adam\n",
        "\n",
        "import wandb\n",
        "from wandb.keras import WandbCallback\n",
        "\n",
        "# https://wandb.ai/markub/Boston_regression?workspace=user-markub\n",
        "wandb.init(project=\"Boston_regression\")\n",
        "\n",
        "wandb.config.learning_rate = 1e-3\n",
        "wandb.config.loss = 'log_cosh'\n",
        "wandb.config.h1 = 128\n",
        "wandb.config.h2 = 128\n",
        "wandb.config.norm = 'normal' # min-max\n",
        "\n",
        "(train_data, train_targets), (test_data, test_targets) = boston_housing.load_data()"
      ]
    },
    {
      "cell_type": "markdown",
      "source": [
        "## Normalization"
      ],
      "metadata": {
        "id": "SowLNdry8Z5c"
      }
    },
    {
      "cell_type": "code",
      "source": [
        "if wandb.config.norm == 'min-max':\n",
        "  # Min-Max method\n",
        "  in_min = train_data.max(axis=0)\n",
        "  in_max = train_data.min(axis=0)\n",
        "\n",
        "  train_data = (train_data - in_min) / (in_max - in_min)\n",
        "  test_data = (test_data - in_min) / (in_max - in_min)\n",
        "else:\n",
        "  # Standardization method\n",
        "  mean = train_data.mean(axis=0)\n",
        "  std = train_data.std(axis=0)\n",
        "\n",
        "  train_data -= mean\n",
        "  train_data /= std\n",
        "\n",
        "  test_data -= mean\n",
        "  test_data /= std"
      ],
      "metadata": {
        "id": "6EqV_UCi9OKH"
      },
      "execution_count": 33,
      "outputs": []
    },
    {
      "cell_type": "markdown",
      "source": [
        "## Model"
      ],
      "metadata": {
        "id": "gouoyH1S-cMA"
      }
    },
    {
      "cell_type": "code",
      "source": [
        "model = models.Sequential()\n",
        "model.add(layers.Dense(wandb.config.h1, activation='relu', input_shape=(train_data.shape[1],)))\n",
        "model.add(layers.Dense(wandb.config.h2, activation='relu'))\n",
        "model.add(layers.Dense(1))\n",
        "\n",
        "model.compile(optimizer=Adam(learning_rate=wandb.config.learning_rate), loss=wandb.config.loss, metrics=['mae'])"
      ],
      "metadata": {
        "id": "8ta59e6h-OUQ"
      },
      "execution_count": 34,
      "outputs": []
    },
    {
      "cell_type": "code",
      "source": [
        "model.fit(train_data, train_targets, validation_data=(test_data, test_targets), epochs=100, batch_size=32, callbacks=[WandbCallback()])"
      ],
      "metadata": {
        "colab": {
          "base_uri": "https://localhost:8080/"
        },
        "id": "4__M2V3r_Kkw",
        "outputId": "4a9e7ec5-6987-45ba-b0d7-b2a024efaff9"
      },
      "execution_count": 35,
      "outputs": [
        {
          "output_type": "stream",
          "name": "stdout",
          "text": [
            "Epoch 1/100\n",
            "13/13 [==============================] - 1s 28ms/step - loss: 20.3619 - mae: 21.0550 - val_loss: 19.3753 - val_mae: 20.0657\n",
            "Epoch 2/100\n",
            "13/13 [==============================] - 0s 13ms/step - loss: 16.9698 - mae: 17.6548 - val_loss: 15.6376 - val_mae: 16.3254\n",
            "Epoch 3/100\n",
            "13/13 [==============================] - 0s 11ms/step - loss: 12.7561 - mae: 13.4357 - val_loss: 10.7339 - val_mae: 11.4180\n",
            "Epoch 4/100\n",
            "13/13 [==============================] - 0s 9ms/step - loss: 7.7685 - mae: 8.4270 - val_loss: 6.8082 - val_mae: 7.4522\n",
            "Epoch 5/100\n",
            "13/13 [==============================] - 0s 11ms/step - loss: 5.8698 - mae: 6.5224 - val_loss: 5.6238 - val_mae: 6.2658\n",
            "Epoch 6/100\n",
            "13/13 [==============================] - 0s 10ms/step - loss: 4.3543 - mae: 4.9921 - val_loss: 4.2855 - val_mae: 4.9137\n",
            "Epoch 7/100\n",
            "13/13 [==============================] - 0s 11ms/step - loss: 3.2473 - mae: 3.8711 - val_loss: 3.4313 - val_mae: 4.0610\n",
            "Epoch 8/100\n",
            "13/13 [==============================] - 0s 11ms/step - loss: 2.6288 - mae: 3.2331 - val_loss: 3.0747 - val_mae: 3.6807\n",
            "Epoch 9/100\n",
            "13/13 [==============================] - 0s 26ms/step - loss: 2.4607 - mae: 3.0452 - val_loss: 2.9163 - val_mae: 3.5289\n",
            "Epoch 10/100\n",
            "13/13 [==============================] - 0s 16ms/step - loss: 2.2690 - mae: 2.8472 - val_loss: 2.8367 - val_mae: 3.4373\n",
            "Epoch 11/100\n",
            "13/13 [==============================] - 0s 19ms/step - loss: 2.1778 - mae: 2.7613 - val_loss: 2.6820 - val_mae: 3.2877\n",
            "Epoch 12/100\n",
            "13/13 [==============================] - 0s 14ms/step - loss: 2.0528 - mae: 2.6212 - val_loss: 2.7222 - val_mae: 3.3170\n",
            "Epoch 13/100\n",
            "13/13 [==============================] - 0s 20ms/step - loss: 1.9878 - mae: 2.5579 - val_loss: 2.5976 - val_mae: 3.1922\n",
            "Epoch 14/100\n",
            "13/13 [==============================] - 0s 18ms/step - loss: 1.9151 - mae: 2.4769 - val_loss: 2.5411 - val_mae: 3.1361\n",
            "Epoch 15/100\n",
            "13/13 [==============================] - 0s 27ms/step - loss: 1.8691 - mae: 2.4392 - val_loss: 2.5328 - val_mae: 3.1215\n",
            "Epoch 16/100\n",
            "13/13 [==============================] - 0s 16ms/step - loss: 1.7875 - mae: 2.3385 - val_loss: 2.4562 - val_mae: 3.0638\n",
            "Epoch 17/100\n",
            "13/13 [==============================] - 0s 13ms/step - loss: 1.8148 - mae: 2.3814 - val_loss: 2.4990 - val_mae: 3.0959\n",
            "Epoch 18/100\n",
            "13/13 [==============================] - 0s 19ms/step - loss: 1.7553 - mae: 2.3148 - val_loss: 2.4804 - val_mae: 3.0804\n",
            "Epoch 19/100\n",
            "13/13 [==============================] - 0s 12ms/step - loss: 1.7429 - mae: 2.2883 - val_loss: 2.4624 - val_mae: 3.0492\n",
            "Epoch 20/100\n",
            "13/13 [==============================] - 0s 17ms/step - loss: 1.7361 - mae: 2.2902 - val_loss: 2.4332 - val_mae: 3.0278\n",
            "Epoch 21/100\n",
            "13/13 [==============================] - 0s 16ms/step - loss: 1.7358 - mae: 2.2929 - val_loss: 2.3616 - val_mae: 2.9465\n",
            "Epoch 22/100\n",
            "13/13 [==============================] - 0s 19ms/step - loss: 1.6755 - mae: 2.2238 - val_loss: 2.4789 - val_mae: 3.0759\n",
            "Epoch 23/100\n",
            "13/13 [==============================] - 0s 23ms/step - loss: 1.6385 - mae: 2.1892 - val_loss: 2.3482 - val_mae: 2.9206\n",
            "Epoch 24/100\n",
            "13/13 [==============================] - 0s 15ms/step - loss: 1.6162 - mae: 2.1580 - val_loss: 2.3798 - val_mae: 2.9748\n",
            "Epoch 25/100\n",
            "13/13 [==============================] - 0s 16ms/step - loss: 1.5990 - mae: 2.1402 - val_loss: 2.3642 - val_mae: 2.9493\n",
            "Epoch 26/100\n",
            "13/13 [==============================] - 0s 25ms/step - loss: 1.5887 - mae: 2.1286 - val_loss: 2.3014 - val_mae: 2.8824\n",
            "Epoch 27/100\n",
            "13/13 [==============================] - 0s 24ms/step - loss: 1.5680 - mae: 2.1114 - val_loss: 2.2833 - val_mae: 2.8589\n",
            "Epoch 28/100\n",
            "13/13 [==============================] - 0s 12ms/step - loss: 1.5639 - mae: 2.1030 - val_loss: 2.3017 - val_mae: 2.8863\n",
            "Epoch 29/100\n",
            "13/13 [==============================] - 0s 11ms/step - loss: 1.5492 - mae: 2.0869 - val_loss: 2.2865 - val_mae: 2.8646\n",
            "Epoch 30/100\n",
            "13/13 [==============================] - 0s 18ms/step - loss: 1.5654 - mae: 2.1048 - val_loss: 2.2487 - val_mae: 2.8300\n",
            "Epoch 31/100\n",
            "13/13 [==============================] - 0s 15ms/step - loss: 1.5157 - mae: 2.0447 - val_loss: 2.3233 - val_mae: 2.9073\n",
            "Epoch 32/100\n",
            "13/13 [==============================] - 0s 14ms/step - loss: 1.4902 - mae: 2.0298 - val_loss: 2.2660 - val_mae: 2.8433\n",
            "Epoch 33/100\n",
            "13/13 [==============================] - 0s 30ms/step - loss: 1.4803 - mae: 2.0111 - val_loss: 2.2126 - val_mae: 2.7690\n",
            "Epoch 34/100\n",
            "13/13 [==============================] - 0s 13ms/step - loss: 1.5101 - mae: 2.0494 - val_loss: 2.2974 - val_mae: 2.8769\n",
            "Epoch 35/100\n",
            "13/13 [==============================] - 0s 21ms/step - loss: 1.4593 - mae: 1.9856 - val_loss: 2.3154 - val_mae: 2.9132\n",
            "Epoch 36/100\n",
            "13/13 [==============================] - 0s 18ms/step - loss: 1.4527 - mae: 1.9834 - val_loss: 2.2012 - val_mae: 2.7753\n",
            "Epoch 37/100\n",
            "13/13 [==============================] - 0s 25ms/step - loss: 1.4170 - mae: 1.9431 - val_loss: 2.1982 - val_mae: 2.7662\n",
            "Epoch 38/100\n",
            "13/13 [==============================] - 0s 14ms/step - loss: 1.4023 - mae: 1.9264 - val_loss: 2.2055 - val_mae: 2.7789\n",
            "Epoch 39/100\n",
            "13/13 [==============================] - 0s 15ms/step - loss: 1.4056 - mae: 1.9286 - val_loss: 2.2564 - val_mae: 2.8434\n",
            "Epoch 40/100\n",
            "13/13 [==============================] - 0s 19ms/step - loss: 1.3890 - mae: 1.9070 - val_loss: 2.1000 - val_mae: 2.6520\n",
            "Epoch 41/100\n",
            "13/13 [==============================] - 0s 12ms/step - loss: 1.4085 - mae: 1.9395 - val_loss: 2.1465 - val_mae: 2.7209\n",
            "Epoch 42/100\n",
            "13/13 [==============================] - 0s 29ms/step - loss: 1.3656 - mae: 1.8817 - val_loss: 2.0866 - val_mae: 2.6424\n",
            "Epoch 43/100\n",
            "13/13 [==============================] - 0s 13ms/step - loss: 1.4097 - mae: 1.9376 - val_loss: 2.2539 - val_mae: 2.8382\n",
            "Epoch 44/100\n",
            "13/13 [==============================] - 0s 12ms/step - loss: 1.3890 - mae: 1.9217 - val_loss: 2.2570 - val_mae: 2.8304\n",
            "Epoch 45/100\n",
            "13/13 [==============================] - 0s 11ms/step - loss: 1.3559 - mae: 1.8735 - val_loss: 2.1880 - val_mae: 2.7727\n",
            "Epoch 46/100\n",
            "13/13 [==============================] - 0s 15ms/step - loss: 1.3216 - mae: 1.8420 - val_loss: 2.1888 - val_mae: 2.7687\n",
            "Epoch 47/100\n",
            "13/13 [==============================] - 0s 12ms/step - loss: 1.3474 - mae: 1.8563 - val_loss: 2.1125 - val_mae: 2.6879\n",
            "Epoch 48/100\n",
            "13/13 [==============================] - 0s 13ms/step - loss: 1.3266 - mae: 1.8392 - val_loss: 2.1269 - val_mae: 2.6894\n",
            "Epoch 49/100\n",
            "13/13 [==============================] - 0s 14ms/step - loss: 1.3154 - mae: 1.8397 - val_loss: 2.1347 - val_mae: 2.7073\n",
            "Epoch 50/100\n",
            "13/13 [==============================] - 0s 11ms/step - loss: 1.3031 - mae: 1.8153 - val_loss: 2.1226 - val_mae: 2.6878\n",
            "Epoch 51/100\n",
            "13/13 [==============================] - 0s 15ms/step - loss: 1.2789 - mae: 1.7896 - val_loss: 2.1831 - val_mae: 2.7624\n",
            "Epoch 52/100\n",
            "13/13 [==============================] - 0s 17ms/step - loss: 1.2891 - mae: 1.7986 - val_loss: 2.0437 - val_mae: 2.5860\n",
            "Epoch 53/100\n",
            "13/13 [==============================] - 0s 14ms/step - loss: 1.2904 - mae: 1.7991 - val_loss: 2.0461 - val_mae: 2.5992\n",
            "Epoch 54/100\n",
            "13/13 [==============================] - 0s 16ms/step - loss: 1.2592 - mae: 1.7689 - val_loss: 2.0986 - val_mae: 2.6579\n",
            "Epoch 55/100\n",
            "13/13 [==============================] - 0s 20ms/step - loss: 1.2514 - mae: 1.7509 - val_loss: 2.0207 - val_mae: 2.5634\n",
            "Epoch 56/100\n",
            "13/13 [==============================] - 0s 13ms/step - loss: 1.2487 - mae: 1.7612 - val_loss: 2.1392 - val_mae: 2.7006\n",
            "Epoch 57/100\n",
            "13/13 [==============================] - 0s 11ms/step - loss: 1.2708 - mae: 1.7883 - val_loss: 2.2845 - val_mae: 2.8797\n",
            "Epoch 58/100\n",
            "13/13 [==============================] - 0s 14ms/step - loss: 1.2438 - mae: 1.7545 - val_loss: 2.0722 - val_mae: 2.6272\n",
            "Epoch 59/100\n",
            "13/13 [==============================] - 0s 16ms/step - loss: 1.1976 - mae: 1.6944 - val_loss: 2.1511 - val_mae: 2.7241\n",
            "Epoch 60/100\n",
            "13/13 [==============================] - 0s 15ms/step - loss: 1.2116 - mae: 1.7030 - val_loss: 2.0434 - val_mae: 2.5979\n",
            "Epoch 61/100\n",
            "13/13 [==============================] - 0s 26ms/step - loss: 1.1978 - mae: 1.7055 - val_loss: 2.0081 - val_mae: 2.5548\n",
            "Epoch 62/100\n",
            "13/13 [==============================] - 0s 14ms/step - loss: 1.2627 - mae: 1.7725 - val_loss: 2.0299 - val_mae: 2.5787\n",
            "Epoch 63/100\n",
            "13/13 [==============================] - 0s 11ms/step - loss: 1.2214 - mae: 1.7241 - val_loss: 2.0539 - val_mae: 2.5920\n",
            "Epoch 64/100\n",
            "13/13 [==============================] - 0s 14ms/step - loss: 1.1899 - mae: 1.6886 - val_loss: 2.0341 - val_mae: 2.5860\n",
            "Epoch 65/100\n",
            "13/13 [==============================] - 0s 14ms/step - loss: 1.1731 - mae: 1.6716 - val_loss: 2.1202 - val_mae: 2.6984\n",
            "Epoch 66/100\n",
            "13/13 [==============================] - 0s 18ms/step - loss: 1.1520 - mae: 1.6500 - val_loss: 2.0381 - val_mae: 2.5848\n",
            "Epoch 67/100\n",
            "13/13 [==============================] - 0s 18ms/step - loss: 1.1672 - mae: 1.6609 - val_loss: 2.0508 - val_mae: 2.6067\n",
            "Epoch 68/100\n",
            "13/13 [==============================] - 0s 20ms/step - loss: 1.1536 - mae: 1.6425 - val_loss: 2.0132 - val_mae: 2.5655\n",
            "Epoch 69/100\n",
            "13/13 [==============================] - 0s 12ms/step - loss: 1.1063 - mae: 1.5877 - val_loss: 2.1382 - val_mae: 2.7141\n",
            "Epoch 70/100\n",
            "13/13 [==============================] - 0s 16ms/step - loss: 1.1244 - mae: 1.6160 - val_loss: 2.1050 - val_mae: 2.6684\n",
            "Epoch 71/100\n",
            "13/13 [==============================] - 0s 13ms/step - loss: 1.1256 - mae: 1.6191 - val_loss: 2.1153 - val_mae: 2.6876\n",
            "Epoch 72/100\n",
            "13/13 [==============================] - 0s 15ms/step - loss: 1.0963 - mae: 1.5834 - val_loss: 2.0343 - val_mae: 2.5950\n",
            "Epoch 73/100\n",
            "13/13 [==============================] - 0s 13ms/step - loss: 1.0886 - mae: 1.5784 - val_loss: 2.0546 - val_mae: 2.6119\n",
            "Epoch 74/100\n",
            "13/13 [==============================] - 0s 19ms/step - loss: 1.0662 - mae: 1.5417 - val_loss: 2.0336 - val_mae: 2.5896\n",
            "Epoch 75/100\n",
            "13/13 [==============================] - 0s 20ms/step - loss: 1.0771 - mae: 1.5576 - val_loss: 2.0432 - val_mae: 2.6135\n",
            "Epoch 76/100\n",
            "13/13 [==============================] - 0s 15ms/step - loss: 1.0734 - mae: 1.5531 - val_loss: 2.0320 - val_mae: 2.5872\n",
            "Epoch 77/100\n",
            "13/13 [==============================] - 0s 14ms/step - loss: 1.0668 - mae: 1.5603 - val_loss: 2.0181 - val_mae: 2.5830\n",
            "Epoch 78/100\n",
            "13/13 [==============================] - 0s 19ms/step - loss: 1.0492 - mae: 1.5306 - val_loss: 2.0606 - val_mae: 2.6231\n",
            "Epoch 79/100\n",
            "13/13 [==============================] - 0s 12ms/step - loss: 1.0368 - mae: 1.5089 - val_loss: 2.0125 - val_mae: 2.5787\n",
            "Epoch 80/100\n",
            "13/13 [==============================] - 0s 31ms/step - loss: 1.0514 - mae: 1.5395 - val_loss: 1.9683 - val_mae: 2.5272\n",
            "Epoch 81/100\n",
            "13/13 [==============================] - 0s 16ms/step - loss: 1.0180 - mae: 1.4960 - val_loss: 2.0454 - val_mae: 2.6020\n",
            "Epoch 82/100\n",
            "13/13 [==============================] - 0s 19ms/step - loss: 1.0194 - mae: 1.4885 - val_loss: 2.0453 - val_mae: 2.6058\n",
            "Epoch 83/100\n",
            "13/13 [==============================] - 0s 16ms/step - loss: 1.0098 - mae: 1.4825 - val_loss: 2.0547 - val_mae: 2.6244\n",
            "Epoch 84/100\n",
            "13/13 [==============================] - 0s 15ms/step - loss: 1.0666 - mae: 1.5622 - val_loss: 2.1375 - val_mae: 2.7159\n",
            "Epoch 85/100\n",
            "13/13 [==============================] - 0s 14ms/step - loss: 1.0463 - mae: 1.5347 - val_loss: 2.0296 - val_mae: 2.5939\n",
            "Epoch 86/100\n",
            "13/13 [==============================] - 0s 20ms/step - loss: 0.9780 - mae: 1.4405 - val_loss: 2.0163 - val_mae: 2.5776\n",
            "Epoch 87/100\n",
            "13/13 [==============================] - 0s 32ms/step - loss: 1.0175 - mae: 1.5015 - val_loss: 1.9669 - val_mae: 2.5286\n",
            "Epoch 88/100\n",
            "13/13 [==============================] - 0s 16ms/step - loss: 1.0071 - mae: 1.4874 - val_loss: 2.0671 - val_mae: 2.6386\n",
            "Epoch 89/100\n",
            "13/13 [==============================] - 0s 27ms/step - loss: 1.0118 - mae: 1.4822 - val_loss: 1.9626 - val_mae: 2.5213\n",
            "Epoch 90/100\n",
            "13/13 [==============================] - 0s 18ms/step - loss: 0.9835 - mae: 1.4687 - val_loss: 1.9659 - val_mae: 2.5271\n",
            "Epoch 91/100\n",
            "13/13 [==============================] - 0s 14ms/step - loss: 0.9782 - mae: 1.4377 - val_loss: 2.0322 - val_mae: 2.5994\n",
            "Epoch 92/100\n",
            "13/13 [==============================] - 0s 14ms/step - loss: 0.9565 - mae: 1.4267 - val_loss: 2.1302 - val_mae: 2.7090\n",
            "Epoch 93/100\n",
            "13/13 [==============================] - 0s 15ms/step - loss: 1.0708 - mae: 1.5660 - val_loss: 2.1316 - val_mae: 2.7083\n",
            "Epoch 94/100\n",
            "13/13 [==============================] - 0s 21ms/step - loss: 0.9807 - mae: 1.4577 - val_loss: 1.9679 - val_mae: 2.5395\n",
            "Epoch 95/100\n",
            "13/13 [==============================] - 0s 13ms/step - loss: 0.9875 - mae: 1.4665 - val_loss: 1.9728 - val_mae: 2.5316\n",
            "Epoch 96/100\n",
            "13/13 [==============================] - 0s 17ms/step - loss: 0.9613 - mae: 1.4384 - val_loss: 2.0373 - val_mae: 2.6116\n",
            "Epoch 97/100\n",
            "13/13 [==============================] - 0s 23ms/step - loss: 0.9774 - mae: 1.4658 - val_loss: 2.0547 - val_mae: 2.6407\n",
            "Epoch 98/100\n",
            "13/13 [==============================] - 0s 17ms/step - loss: 0.9906 - mae: 1.4831 - val_loss: 1.9337 - val_mae: 2.5026\n",
            "Epoch 99/100\n",
            "13/13 [==============================] - 0s 18ms/step - loss: 0.9391 - mae: 1.4195 - val_loss: 2.0613 - val_mae: 2.6375\n",
            "Epoch 100/100\n",
            "13/13 [==============================] - 0s 18ms/step - loss: 0.9332 - mae: 1.4053 - val_loss: 1.9795 - val_mae: 2.5564\n"
          ]
        },
        {
          "output_type": "execute_result",
          "data": {
            "text/plain": [
              "<keras.callbacks.History at 0x7f8d13338850>"
            ]
          },
          "metadata": {},
          "execution_count": 35
        }
      ]
    }
  ]
}